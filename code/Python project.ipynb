{
 "cells": [
  {
   "cell_type": "code",
   "execution_count": 1,
   "id": "2867b920",
   "metadata": {},
   "outputs": [],
   "source": [
    "#Dengue is one of the most important arthropod-borne viral diseases in terms of human morbidity and mortality. \n",
    "#Dengue has become an important public health problem. \n",
    "#It affects tropical and subtropical regions around the world, predominantly in urban and semi urban areas.\n",
    "#Therefore, i choose Cases of Dengue Infection across State of Malaysia in Different Age Groups Year 2010-2017 for my project.\n",
    "import pandas as pd\n",
    "import numpy as np\n",
    "import matplotlib.pyplot as plt"
   ]
  },
  {
   "cell_type": "code",
   "execution_count": 2,
   "id": "4a3ae2f9",
   "metadata": {},
   "outputs": [],
   "source": [
    "dengue = pd.read_csv('../python workarea/Dengue Broad Data in Malaysia.csv')"
   ]
  },
  {
   "cell_type": "code",
   "execution_count": 3,
   "id": "0cde64e3",
   "metadata": {},
   "outputs": [
    {
     "data": {
      "text/plain": [
       "(729, 17)"
      ]
     },
     "execution_count": 3,
     "metadata": {},
     "output_type": "execute_result"
    }
   ],
   "source": [
    "dengue.shape"
   ]
  },
  {
   "cell_type": "code",
   "execution_count": 4,
   "id": "f1047aa9",
   "metadata": {},
   "outputs": [
    {
     "data": {
      "text/html": [
       "<div>\n",
       "<style scoped>\n",
       "    .dataframe tbody tr th:only-of-type {\n",
       "        vertical-align: middle;\n",
       "    }\n",
       "\n",
       "    .dataframe tbody tr th {\n",
       "        vertical-align: top;\n",
       "    }\n",
       "\n",
       "    .dataframe thead th {\n",
       "        text-align: right;\n",
       "    }\n",
       "</style>\n",
       "<table border=\"1\" class=\"dataframe\">\n",
       "  <thead>\n",
       "    <tr style=\"text-align: right;\">\n",
       "      <th></th>\n",
       "      <th>BILANGAN KES DENGGI MENGIKUT MINGGU EPID, TAHUN 2010</th>\n",
       "      <th>JOHOR</th>\n",
       "      <th>KEDAH</th>\n",
       "      <th>KELANTAN</th>\n",
       "      <th>MELAKA</th>\n",
       "      <th>NEGERI SEMBILAN</th>\n",
       "      <th>PAHANG</th>\n",
       "      <th>PERAK</th>\n",
       "      <th>PERLIS</th>\n",
       "      <th>PULAU PINANG</th>\n",
       "      <th>SABAH</th>\n",
       "      <th>SARAWAK</th>\n",
       "      <th>SELANGOR</th>\n",
       "      <th>TERENGGANU</th>\n",
       "      <th>WP KUALA LUMPUR</th>\n",
       "      <th>WP LABUAN</th>\n",
       "      <th>MALAYSIA</th>\n",
       "    </tr>\n",
       "  </thead>\n",
       "  <tbody>\n",
       "    <tr>\n",
       "      <th>0</th>\n",
       "      <td>1</td>\n",
       "      <td>46</td>\n",
       "      <td>7</td>\n",
       "      <td>17</td>\n",
       "      <td>8</td>\n",
       "      <td>20</td>\n",
       "      <td>17</td>\n",
       "      <td>23</td>\n",
       "      <td>0</td>\n",
       "      <td>37</td>\n",
       "      <td>55</td>\n",
       "      <td>255</td>\n",
       "      <td>400</td>\n",
       "      <td>18</td>\n",
       "      <td>62</td>\n",
       "      <td>0</td>\n",
       "      <td>965</td>\n",
       "    </tr>\n",
       "    <tr>\n",
       "      <th>1</th>\n",
       "      <td>2</td>\n",
       "      <td>49</td>\n",
       "      <td>5</td>\n",
       "      <td>16</td>\n",
       "      <td>7</td>\n",
       "      <td>25</td>\n",
       "      <td>21</td>\n",
       "      <td>38</td>\n",
       "      <td>1</td>\n",
       "      <td>28</td>\n",
       "      <td>35</td>\n",
       "      <td>207</td>\n",
       "      <td>468</td>\n",
       "      <td>15</td>\n",
       "      <td>83</td>\n",
       "      <td>2</td>\n",
       "      <td>1000</td>\n",
       "    </tr>\n",
       "    <tr>\n",
       "      <th>2</th>\n",
       "      <td>3</td>\n",
       "      <td>71</td>\n",
       "      <td>11</td>\n",
       "      <td>23</td>\n",
       "      <td>14</td>\n",
       "      <td>29</td>\n",
       "      <td>20</td>\n",
       "      <td>24</td>\n",
       "      <td>2</td>\n",
       "      <td>27</td>\n",
       "      <td>45</td>\n",
       "      <td>183</td>\n",
       "      <td>502</td>\n",
       "      <td>12</td>\n",
       "      <td>101</td>\n",
       "      <td>1</td>\n",
       "      <td>1065</td>\n",
       "    </tr>\n",
       "    <tr>\n",
       "      <th>3</th>\n",
       "      <td>4</td>\n",
       "      <td>79</td>\n",
       "      <td>11</td>\n",
       "      <td>13</td>\n",
       "      <td>16</td>\n",
       "      <td>70</td>\n",
       "      <td>31</td>\n",
       "      <td>18</td>\n",
       "      <td>6</td>\n",
       "      <td>20</td>\n",
       "      <td>73</td>\n",
       "      <td>133</td>\n",
       "      <td>525</td>\n",
       "      <td>24</td>\n",
       "      <td>80</td>\n",
       "      <td>2</td>\n",
       "      <td>1101</td>\n",
       "    </tr>\n",
       "    <tr>\n",
       "      <th>4</th>\n",
       "      <td>5</td>\n",
       "      <td>75</td>\n",
       "      <td>15</td>\n",
       "      <td>18</td>\n",
       "      <td>9</td>\n",
       "      <td>112</td>\n",
       "      <td>33</td>\n",
       "      <td>19</td>\n",
       "      <td>4</td>\n",
       "      <td>20</td>\n",
       "      <td>63</td>\n",
       "      <td>121</td>\n",
       "      <td>461</td>\n",
       "      <td>43</td>\n",
       "      <td>109</td>\n",
       "      <td>1</td>\n",
       "      <td>1103</td>\n",
       "    </tr>\n",
       "  </tbody>\n",
       "</table>\n",
       "</div>"
      ],
      "text/plain": [
       "  BILANGAN KES DENGGI MENGIKUT MINGGU EPID, TAHUN 2010 JOHOR KEDAH KELANTAN  \\\n",
       "0                                                  1      46     7       17   \n",
       "1                                                  2      49     5       16   \n",
       "2                                                  3      71    11       23   \n",
       "3                                                  4      79    11       13   \n",
       "4                                                  5      75    15       18   \n",
       "\n",
       "  MELAKA NEGERI SEMBILAN PAHANG PERAK PERLIS PULAU PINANG SABAH SARAWAK  \\\n",
       "0      8              20     17    23      0           37    55     255   \n",
       "1      7              25     21    38      1           28    35     207   \n",
       "2     14              29     20    24      2           27    45     183   \n",
       "3     16              70     31    18      6           20    73     133   \n",
       "4      9             112     33    19      4           20    63     121   \n",
       "\n",
       "  SELANGOR TERENGGANU WP KUALA LUMPUR WP LABUAN MALAYSIA  \n",
       "0      400         18              62         0      965  \n",
       "1      468         15              83         2     1000  \n",
       "2      502         12             101         1     1065  \n",
       "3      525         24              80         2     1101  \n",
       "4      461         43             109         1     1103  "
      ]
     },
     "execution_count": 4,
     "metadata": {},
     "output_type": "execute_result"
    }
   ],
   "source": [
    "dengue.head()"
   ]
  },
  {
   "cell_type": "code",
   "execution_count": 5,
   "id": "9616720a",
   "metadata": {},
   "outputs": [
    {
     "data": {
      "text/plain": [
       "BILANGAN KES DENGGI MENGIKUT MINGGU EPID, TAHUN 2010    0\n",
       "JOHOR                                                   0\n",
       "KEDAH                                                   0\n",
       "KELANTAN                                                0\n",
       "MELAKA                                                  0\n",
       "NEGERI SEMBILAN                                         0\n",
       "PAHANG                                                  0\n",
       "PERAK                                                   0\n",
       "PERLIS                                                  0\n",
       "PULAU PINANG                                            0\n",
       "SABAH                                                   0\n",
       "SARAWAK                                                 0\n",
       "SELANGOR                                                0\n",
       "TERENGGANU                                              0\n",
       "WP KUALA LUMPUR                                         0\n",
       "WP LABUAN                                               0\n",
       "MALAYSIA                                                0\n",
       "dtype: int64"
      ]
     },
     "execution_count": 5,
     "metadata": {},
     "output_type": "execute_result"
    }
   ],
   "source": [
    "#All suspected dengue cases must be notified by telephone to the nearest health office within 24 hours of diagnosis, \n",
    "#followed by written notification within a week using the standard notification format.\n",
    "#Any delay in notification  will increase the risk of dengue transmission in the locality of the residence.\n",
    "dengue.isnull().sum()"
   ]
  },
  {
   "cell_type": "code",
   "execution_count": 6,
   "id": "ccf92515",
   "metadata": {},
   "outputs": [],
   "source": [
    "#Case fatality rate \n",
    "#Numerator: No of DF  death\n",
    "#Denominator: No cases (clinically diagnosed)\n",
    "#National target (9th Malaysian Plan):< 0.2%\n",
    "data = {'year':[2010,2011,2012,2013,2014,2015,2016,2017],\n",
    "                'death':[134,36,35,92,215,336,237,177],\n",
    "                'total_case':[46171,19884,21900,43346,108698,120836,101357,83849]}\n"
   ]
  },
  {
   "cell_type": "code",
   "execution_count": 7,
   "id": "19adcee2",
   "metadata": {},
   "outputs": [
    {
     "data": {
      "text/html": [
       "<div>\n",
       "<style scoped>\n",
       "    .dataframe tbody tr th:only-of-type {\n",
       "        vertical-align: middle;\n",
       "    }\n",
       "\n",
       "    .dataframe tbody tr th {\n",
       "        vertical-align: top;\n",
       "    }\n",
       "\n",
       "    .dataframe thead th {\n",
       "        text-align: right;\n",
       "    }\n",
       "</style>\n",
       "<table border=\"1\" class=\"dataframe\">\n",
       "  <thead>\n",
       "    <tr style=\"text-align: right;\">\n",
       "      <th></th>\n",
       "      <th>year</th>\n",
       "      <th>death</th>\n",
       "      <th>total_case</th>\n",
       "    </tr>\n",
       "  </thead>\n",
       "  <tbody>\n",
       "    <tr>\n",
       "      <th>0</th>\n",
       "      <td>2010</td>\n",
       "      <td>134</td>\n",
       "      <td>46171</td>\n",
       "    </tr>\n",
       "    <tr>\n",
       "      <th>1</th>\n",
       "      <td>2011</td>\n",
       "      <td>36</td>\n",
       "      <td>19884</td>\n",
       "    </tr>\n",
       "    <tr>\n",
       "      <th>2</th>\n",
       "      <td>2012</td>\n",
       "      <td>35</td>\n",
       "      <td>21900</td>\n",
       "    </tr>\n",
       "    <tr>\n",
       "      <th>3</th>\n",
       "      <td>2013</td>\n",
       "      <td>92</td>\n",
       "      <td>43346</td>\n",
       "    </tr>\n",
       "    <tr>\n",
       "      <th>4</th>\n",
       "      <td>2014</td>\n",
       "      <td>215</td>\n",
       "      <td>108698</td>\n",
       "    </tr>\n",
       "  </tbody>\n",
       "</table>\n",
       "</div>"
      ],
      "text/plain": [
       "   year  death  total_case\n",
       "0  2010    134       46171\n",
       "1  2011     36       19884\n",
       "2  2012     35       21900\n",
       "3  2013     92       43346\n",
       "4  2014    215      108698"
      ]
     },
     "execution_count": 7,
     "metadata": {},
     "output_type": "execute_result"
    }
   ],
   "source": [
    "case_fatality = pd.DataFrame(data,columns=['year','death','total_case'])\n",
    "case_fatality.head()"
   ]
  },
  {
   "cell_type": "code",
   "execution_count": 8,
   "id": "8e10e406",
   "metadata": {},
   "outputs": [
    {
     "data": {
      "text/html": [
       "<div>\n",
       "<style scoped>\n",
       "    .dataframe tbody tr th:only-of-type {\n",
       "        vertical-align: middle;\n",
       "    }\n",
       "\n",
       "    .dataframe tbody tr th {\n",
       "        vertical-align: top;\n",
       "    }\n",
       "\n",
       "    .dataframe thead th {\n",
       "        text-align: right;\n",
       "    }\n",
       "</style>\n",
       "<table border=\"1\" class=\"dataframe\">\n",
       "  <thead>\n",
       "    <tr style=\"text-align: right;\">\n",
       "      <th></th>\n",
       "      <th>year</th>\n",
       "      <th>death</th>\n",
       "      <th>total_case</th>\n",
       "      <th>dengue_case_fatality_rate</th>\n",
       "    </tr>\n",
       "  </thead>\n",
       "  <tbody>\n",
       "    <tr>\n",
       "      <th>0</th>\n",
       "      <td>2010</td>\n",
       "      <td>134</td>\n",
       "      <td>46171</td>\n",
       "      <td>0.290225</td>\n",
       "    </tr>\n",
       "    <tr>\n",
       "      <th>1</th>\n",
       "      <td>2011</td>\n",
       "      <td>36</td>\n",
       "      <td>19884</td>\n",
       "      <td>0.181050</td>\n",
       "    </tr>\n",
       "    <tr>\n",
       "      <th>2</th>\n",
       "      <td>2012</td>\n",
       "      <td>35</td>\n",
       "      <td>21900</td>\n",
       "      <td>0.159817</td>\n",
       "    </tr>\n",
       "    <tr>\n",
       "      <th>3</th>\n",
       "      <td>2013</td>\n",
       "      <td>92</td>\n",
       "      <td>43346</td>\n",
       "      <td>0.212246</td>\n",
       "    </tr>\n",
       "    <tr>\n",
       "      <th>4</th>\n",
       "      <td>2014</td>\n",
       "      <td>215</td>\n",
       "      <td>108698</td>\n",
       "      <td>0.197796</td>\n",
       "    </tr>\n",
       "    <tr>\n",
       "      <th>5</th>\n",
       "      <td>2015</td>\n",
       "      <td>336</td>\n",
       "      <td>120836</td>\n",
       "      <td>0.278063</td>\n",
       "    </tr>\n",
       "    <tr>\n",
       "      <th>6</th>\n",
       "      <td>2016</td>\n",
       "      <td>237</td>\n",
       "      <td>101357</td>\n",
       "      <td>0.233827</td>\n",
       "    </tr>\n",
       "    <tr>\n",
       "      <th>7</th>\n",
       "      <td>2017</td>\n",
       "      <td>177</td>\n",
       "      <td>83849</td>\n",
       "      <td>0.211094</td>\n",
       "    </tr>\n",
       "  </tbody>\n",
       "</table>\n",
       "</div>"
      ],
      "text/plain": [
       "   year  death  total_case  dengue_case_fatality_rate\n",
       "0  2010    134       46171                   0.290225\n",
       "1  2011     36       19884                   0.181050\n",
       "2  2012     35       21900                   0.159817\n",
       "3  2013     92       43346                   0.212246\n",
       "4  2014    215      108698                   0.197796\n",
       "5  2015    336      120836                   0.278063\n",
       "6  2016    237      101357                   0.233827\n",
       "7  2017    177       83849                   0.211094"
      ]
     },
     "execution_count": 8,
     "metadata": {},
     "output_type": "execute_result"
    }
   ],
   "source": [
    "case_fatality['dengue_case_fatality_rate']=case_fatality['death']/case_fatality['total_case']*100\n",
    "case_fatality"
   ]
  },
  {
   "cell_type": "code",
   "execution_count": 9,
   "id": "1d7f4edd",
   "metadata": {},
   "outputs": [
    {
     "data": {
      "text/plain": [
       "<AxesSubplot:xlabel='MALAYSIA', ylabel='SELANGOR'>"
      ]
     },
     "execution_count": 9,
     "metadata": {},
     "output_type": "execute_result"
    },
    {
     "data": {
      "image/png": "[encoded data removed]",
      "text/plain": [
       "<Figure size 720x288 with 1 Axes>"
      ]
     },
     "metadata": {
      "needs_background": "light"
     },
     "output_type": "display_data"
    }
   ],
   "source": [
    "#high density of its population and rapid development activities factors which favour dengue transmission.\n",
    "dengue.plot(kind='scatter', x='MALAYSIA', y='SELANGOR', \\\n",
    "        color='dodgerblue', figsize=(10,4), s=10, alpha=0.5)"
   ]
  },
  {
   "cell_type": "code",
   "execution_count": 10,
   "id": "a9cc87ab",
   "metadata": {},
   "outputs": [
    {
     "data": {
      "text/plain": [
       "<AxesSubplot:xlabel='MALAYSIA', ylabel='PERLIS'>"
      ]
     },
     "execution_count": 10,
     "metadata": {},
     "output_type": "execute_result"
    },
    {
     "data": {
      "image/png": "[encoded data removed]",
      "text/plain": [
       "<Figure size 720x288 with 1 Axes>"
      ]
     },
     "metadata": {
      "needs_background": "light"
     },
     "output_type": "display_data"
    }
   ],
   "source": [
    "dengue.plot(kind='scatter', x='MALAYSIA', y='PERLIS', \\\n",
    "        color='dodgerblue', figsize=(10,4), s=10, alpha=0.5)"
   ]
  },
  {
   "cell_type": "code",
   "execution_count": 11,
   "id": "c42748dc",
   "metadata": {},
   "outputs": [
    {
     "data": {
      "text/html": [
       "<div>\n",
       "<style scoped>\n",
       "    .dataframe tbody tr th:only-of-type {\n",
       "        vertical-align: middle;\n",
       "    }\n",
       "\n",
       "    .dataframe tbody tr th {\n",
       "        vertical-align: top;\n",
       "    }\n",
       "\n",
       "    .dataframe thead th {\n",
       "        text-align: right;\n",
       "    }\n",
       "</style>\n",
       "<table border=\"1\" class=\"dataframe\">\n",
       "  <thead>\n",
       "    <tr style=\"text-align: right;\">\n",
       "      <th></th>\n",
       "      <th>age</th>\n",
       "      <th>cases</th>\n",
       "    </tr>\n",
       "  </thead>\n",
       "  <tbody>\n",
       "    <tr>\n",
       "      <th>0</th>\n",
       "      <td>0-4</td>\n",
       "      <td>24025</td>\n",
       "    </tr>\n",
       "    <tr>\n",
       "      <th>1</th>\n",
       "      <td>5-9</td>\n",
       "      <td>29603</td>\n",
       "    </tr>\n",
       "    <tr>\n",
       "      <th>2</th>\n",
       "      <td>10-14</td>\n",
       "      <td>45436</td>\n",
       "    </tr>\n",
       "    <tr>\n",
       "      <th>3</th>\n",
       "      <td>15-19</td>\n",
       "      <td>63678</td>\n",
       "    </tr>\n",
       "    <tr>\n",
       "      <th>4</th>\n",
       "      <td>20-24</td>\n",
       "      <td>73812</td>\n",
       "    </tr>\n",
       "    <tr>\n",
       "      <th>5</th>\n",
       "      <td>25-29</td>\n",
       "      <td>70257</td>\n",
       "    </tr>\n",
       "    <tr>\n",
       "      <th>6</th>\n",
       "      <td>30-34</td>\n",
       "      <td>60068</td>\n",
       "    </tr>\n",
       "    <tr>\n",
       "      <th>7</th>\n",
       "      <td>35-39</td>\n",
       "      <td>45461</td>\n",
       "    </tr>\n",
       "    <tr>\n",
       "      <th>8</th>\n",
       "      <td>40-44</td>\n",
       "      <td>35416</td>\n",
       "    </tr>\n",
       "    <tr>\n",
       "      <th>9</th>\n",
       "      <td>45-49</td>\n",
       "      <td>28137</td>\n",
       "    </tr>\n",
       "    <tr>\n",
       "      <th>10</th>\n",
       "      <td>50-54</td>\n",
       "      <td>23670</td>\n",
       "    </tr>\n",
       "    <tr>\n",
       "      <th>11</th>\n",
       "      <td>55-59</td>\n",
       "      <td>18323</td>\n",
       "    </tr>\n",
       "    <tr>\n",
       "      <th>12</th>\n",
       "      <td>60-64</td>\n",
       "      <td>12428</td>\n",
       "    </tr>\n",
       "    <tr>\n",
       "      <th>13</th>\n",
       "      <td>65-69</td>\n",
       "      <td>7655</td>\n",
       "    </tr>\n",
       "    <tr>\n",
       "      <th>14</th>\n",
       "      <td>70-74</td>\n",
       "      <td>4141</td>\n",
       "    </tr>\n",
       "    <tr>\n",
       "      <th>15</th>\n",
       "      <td>&gt;75</td>\n",
       "      <td>3915</td>\n",
       "    </tr>\n",
       "  </tbody>\n",
       "</table>\n",
       "</div>"
      ],
      "text/plain": [
       "      age  cases\n",
       "0     0-4  24025\n",
       "1     5-9  29603\n",
       "2   10-14  45436\n",
       "3   15-19  63678\n",
       "4   20-24  73812\n",
       "5   25-29  70257\n",
       "6   30-34  60068\n",
       "7   35-39  45461\n",
       "8   40-44  35416\n",
       "9   45-49  28137\n",
       "10  50-54  23670\n",
       "11  55-59  18323\n",
       "12  60-64  12428\n",
       "13  65-69   7655\n",
       "14  70-74   4141\n",
       "15    >75   3915"
      ]
     },
     "execution_count": 11,
     "metadata": {},
     "output_type": "execute_result"
    }
   ],
   "source": [
    "age_data = {'age':['0-4','5-9','10-14','15-19','20-24','25-29','30-34','35-39','40-44','45-49','50-54','55-59','60-64','65-69','70-74','>75'],\n",
    "                'cases':[24025,29603,45436,63678,73812,70257,60068,45461,35416,28137,23670,18323,12428,7655,4141,3915]}\n",
    "\n",
    "age_distribution = pd.DataFrame(age_data,columns=['age','cases'])\n",
    "age_distribution"
   ]
  },
  {
   "cell_type": "code",
   "execution_count": 12,
   "id": "881cdf92",
   "metadata": {},
   "outputs": [
    {
     "data": {
      "text/plain": [
       "Text(0.5, 1.0, 'Distribution of Dengue Cases across Age Group in Malaysia')"
      ]
     },
     "execution_count": 12,
     "metadata": {},
     "output_type": "execute_result"
    },
    {
     "data": {
      "image/png": "[encoded data removed]",
      "text/plain": [
       "<Figure size 432x288 with 1 Axes>"
      ]
     },
     "metadata": {
      "needs_background": "light"
     },
     "output_type": "display_data"
    }
   ],
   "source": [
    "age =['0-4','5-9','10-14','15-19','20-24','25-29','30-34','35-39','40-44','45-49','50-54','55-59','60-64','65-69','70-74','>75']\n",
    "cases =[24025,29603,45436,63678,73812,70257,60068,45461,35416,28137,23670,18323,12428,7655,4141,3915]\n",
    "plt.bar(age,cases, width=0.2)\n",
    "plt.xlabel('range of age')\n",
    "plt.ylabel('no. of cases')\n",
    "plt.title('Distribution of Dengue Cases across Age Group in Malaysia')"
   ]
  },
  {
   "cell_type": "code",
   "execution_count": 13,
   "id": "55514e65",
   "metadata": {},
   "outputs": [],
   "source": [
    "#Dengue hemorrhagic fever(DHF)is a severe form of dengue infection.\n",
    "#Secondary infection is a major risk factor for DHF due to antibody-dependent enhancement. \n",
    "#Other important contributing factors for DHF are viral virulence, host genetic background, T-cell activation, viral load and auto-antibodies.\n",
    "dhf_data = {'year':[2010,2011,2012,2013,2014,2015,2016,2017],\n",
    "                'dengue_hemorrhagic_fever':[4031,1418,719,774,1101,1040,635,406],\n",
    "                'total_case':[46171,19884,21900,43346,108698,120836,101357,83849]}"
   ]
  },
  {
   "cell_type": "code",
   "execution_count": 14,
   "id": "300956f3",
   "metadata": {},
   "outputs": [
    {
     "data": {
      "text/html": [
       "<div>\n",
       "<style scoped>\n",
       "    .dataframe tbody tr th:only-of-type {\n",
       "        vertical-align: middle;\n",
       "    }\n",
       "\n",
       "    .dataframe tbody tr th {\n",
       "        vertical-align: top;\n",
       "    }\n",
       "\n",
       "    .dataframe thead th {\n",
       "        text-align: right;\n",
       "    }\n",
       "</style>\n",
       "<table border=\"1\" class=\"dataframe\">\n",
       "  <thead>\n",
       "    <tr style=\"text-align: right;\">\n",
       "      <th></th>\n",
       "      <th>year</th>\n",
       "      <th>dengue_hemorrhagic_fever</th>\n",
       "      <th>total_case</th>\n",
       "    </tr>\n",
       "  </thead>\n",
       "  <tbody>\n",
       "    <tr>\n",
       "      <th>0</th>\n",
       "      <td>2010</td>\n",
       "      <td>4031</td>\n",
       "      <td>46171</td>\n",
       "    </tr>\n",
       "    <tr>\n",
       "      <th>1</th>\n",
       "      <td>2011</td>\n",
       "      <td>1418</td>\n",
       "      <td>19884</td>\n",
       "    </tr>\n",
       "    <tr>\n",
       "      <th>2</th>\n",
       "      <td>2012</td>\n",
       "      <td>719</td>\n",
       "      <td>21900</td>\n",
       "    </tr>\n",
       "    <tr>\n",
       "      <th>3</th>\n",
       "      <td>2013</td>\n",
       "      <td>774</td>\n",
       "      <td>43346</td>\n",
       "    </tr>\n",
       "    <tr>\n",
       "      <th>4</th>\n",
       "      <td>2014</td>\n",
       "      <td>1101</td>\n",
       "      <td>108698</td>\n",
       "    </tr>\n",
       "    <tr>\n",
       "      <th>5</th>\n",
       "      <td>2015</td>\n",
       "      <td>1040</td>\n",
       "      <td>120836</td>\n",
       "    </tr>\n",
       "    <tr>\n",
       "      <th>6</th>\n",
       "      <td>2016</td>\n",
       "      <td>635</td>\n",
       "      <td>101357</td>\n",
       "    </tr>\n",
       "    <tr>\n",
       "      <th>7</th>\n",
       "      <td>2017</td>\n",
       "      <td>406</td>\n",
       "      <td>83849</td>\n",
       "    </tr>\n",
       "  </tbody>\n",
       "</table>\n",
       "</div>"
      ],
      "text/plain": [
       "   year  dengue_hemorrhagic_fever  total_case\n",
       "0  2010                      4031       46171\n",
       "1  2011                      1418       19884\n",
       "2  2012                       719       21900\n",
       "3  2013                       774       43346\n",
       "4  2014                      1101      108698\n",
       "5  2015                      1040      120836\n",
       "6  2016                       635      101357\n",
       "7  2017                       406       83849"
      ]
     },
     "execution_count": 14,
     "metadata": {},
     "output_type": "execute_result"
    }
   ],
   "source": [
    "severe_cases = pd.DataFrame(dhf_data,columns=['year','dengue_hemorrhagic_fever','total_case'])\n",
    "severe_cases"
   ]
  },
  {
   "cell_type": "code",
   "execution_count": 15,
   "id": "660c7531",
   "metadata": {},
   "outputs": [
    {
     "data": {
      "text/html": [
       "<div>\n",
       "<style scoped>\n",
       "    .dataframe tbody tr th:only-of-type {\n",
       "        vertical-align: middle;\n",
       "    }\n",
       "\n",
       "    .dataframe tbody tr th {\n",
       "        vertical-align: top;\n",
       "    }\n",
       "\n",
       "    .dataframe thead th {\n",
       "        text-align: right;\n",
       "    }\n",
       "</style>\n",
       "<table border=\"1\" class=\"dataframe\">\n",
       "  <thead>\n",
       "    <tr style=\"text-align: right;\">\n",
       "      <th></th>\n",
       "      <th>year</th>\n",
       "      <th>dengue_hemorrhagic_fever</th>\n",
       "      <th>total_case</th>\n",
       "      <th>DHF_percentage</th>\n",
       "    </tr>\n",
       "  </thead>\n",
       "  <tbody>\n",
       "    <tr>\n",
       "      <th>0</th>\n",
       "      <td>2010</td>\n",
       "      <td>4031</td>\n",
       "      <td>46171</td>\n",
       "      <td>8.730588</td>\n",
       "    </tr>\n",
       "    <tr>\n",
       "      <th>1</th>\n",
       "      <td>2011</td>\n",
       "      <td>1418</td>\n",
       "      <td>19884</td>\n",
       "      <td>7.131362</td>\n",
       "    </tr>\n",
       "    <tr>\n",
       "      <th>2</th>\n",
       "      <td>2012</td>\n",
       "      <td>719</td>\n",
       "      <td>21900</td>\n",
       "      <td>3.283105</td>\n",
       "    </tr>\n",
       "    <tr>\n",
       "      <th>3</th>\n",
       "      <td>2013</td>\n",
       "      <td>774</td>\n",
       "      <td>43346</td>\n",
       "      <td>1.785632</td>\n",
       "    </tr>\n",
       "    <tr>\n",
       "      <th>4</th>\n",
       "      <td>2014</td>\n",
       "      <td>1101</td>\n",
       "      <td>108698</td>\n",
       "      <td>1.012898</td>\n",
       "    </tr>\n",
       "    <tr>\n",
       "      <th>5</th>\n",
       "      <td>2015</td>\n",
       "      <td>1040</td>\n",
       "      <td>120836</td>\n",
       "      <td>0.860671</td>\n",
       "    </tr>\n",
       "    <tr>\n",
       "      <th>6</th>\n",
       "      <td>2016</td>\n",
       "      <td>635</td>\n",
       "      <td>101357</td>\n",
       "      <td>0.626498</td>\n",
       "    </tr>\n",
       "    <tr>\n",
       "      <th>7</th>\n",
       "      <td>2017</td>\n",
       "      <td>406</td>\n",
       "      <td>83849</td>\n",
       "      <td>0.484204</td>\n",
       "    </tr>\n",
       "  </tbody>\n",
       "</table>\n",
       "</div>"
      ],
      "text/plain": [
       "   year  dengue_hemorrhagic_fever  total_case  DHF_percentage\n",
       "0  2010                      4031       46171        8.730588\n",
       "1  2011                      1418       19884        7.131362\n",
       "2  2012                       719       21900        3.283105\n",
       "3  2013                       774       43346        1.785632\n",
       "4  2014                      1101      108698        1.012898\n",
       "5  2015                      1040      120836        0.860671\n",
       "6  2016                       635      101357        0.626498\n",
       "7  2017                       406       83849        0.484204"
      ]
     },
     "execution_count": 15,
     "metadata": {},
     "output_type": "execute_result"
    }
   ],
   "source": [
    "severe_cases['DHF_percentage']=severe_cases['dengue_hemorrhagic_fever']/severe_cases['total_case']*100\n",
    "severe_cases"
   ]
  },
  {
   "cell_type": "code",
   "execution_count": 16,
   "id": "42d3cc86",
   "metadata": {},
   "outputs": [
    {
     "name": "stdout",
     "output_type": "stream",
     "text": [
      "The distinct serotype of dengue is flavivirus1 : Den-1\n",
      "The distinct serotype of dengue is flavivirus2 : Den-2\n",
      "The distinct serotype of dengue is flavivirus3 : Den-3\n",
      "The distinct serotype of dengue is flavivirus4 : Den-4\n"
     ]
    }
   ],
   "source": [
    "#Dengue infection is caused by dengue virus which is a mosquito-borne flavivirus. \n",
    "#It is transmitted by Aedes aegypti and Aedes albopictus.\n",
    "\n",
    "def dengue_virology(**kwargs):\n",
    "    for key,value in kwargs.items():\n",
    "        print(\"The distinct serotype of dengue is\", key,\":\", value)\n",
    "        \n",
    "dengue_virology(flavivirus1=\"Den-1\",\n",
    "               flavivirus2=\"Den-2\",\n",
    "               flavivirus3=\"Den-3\",\n",
    "               flavivirus4=\"Den-4\")"
   ]
  },
  {
   "cell_type": "code",
   "execution_count": null,
   "id": "4034481b",
   "metadata": {},
   "outputs": [],
   "source": []
  }
 ],
 "metadata": {
  "kernelspec": {
   "display_name": "Python 3",
   "language": "python",
   "name": "python3"
  },
  "language_info": {
   "codemirror_mode": {
    "name": "ipython",
    "version": 3
   },
   "file_extension": ".py",
   "mimetype": "text/x-python",
   "name": "python",
   "nbconvert_exporter": "python",
   "pygments_lexer": "ipython3",
   "version": "3.8.8"
  }
 },
 "nbformat": 4,
 "nbformat_minor": 5
}
